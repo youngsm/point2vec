{
 "cells": [
  {
   "cell_type": "markdown",
   "metadata": {},
   "source": [
    "I assume you have already run `00_dataset.ipynb` and `01_tokenization.ipynb` and have the dataset format/tokenization scheme understood."
   ]
  },
  {
   "cell_type": "markdown",
   "metadata": {},
   "source": [
    "# Dataset Initialization"
   ]
  },
  {
   "cell_type": "code",
   "execution_count": 1,
   "metadata": {},
   "outputs": [
    {
     "data": {
      "text/plain": [
       "<torch.autograd.grad_mode.set_grad_enabled at 0x7fa66198ce80>"
      ]
     },
     "execution_count": 1,
     "metadata": {},
     "output_type": "execute_result"
    }
   ],
   "source": [
    "from point2vec.datasets import LArNetDataModule\n",
    "import matplotlib.pyplot as plt\n",
    "import torch\n",
    "import numpy as np\n",
    "\n",
    "# Turn off gradient tracking so we don't run out of memory\n",
    "torch.set_grad_enabled(False)"
   ]
  },
  {
   "cell_type": "markdown",
   "metadata": {},
   "source": [
    "# Model Initialization\n",
    "\n",
    "The model is a masked autoencoder. It is a transformer encoder-decoder architecture. The encoder encodes the visible tokens, and the decoder decodes the masked tokens by using the encoder outputs as inputs. The model is trained to predict the original points from the masked tokens. The workflow is as follows:\n",
    "\n",
    "1. Group & tokenize point cloud\n",
    "2. Mask 60% of tokens randomly\n",
    "3. Generate positional encodings for all centers\n",
    "3. Add positional encoding onto visible tokens\n",
    "4. Pass visible tokens only through encoder\n",
    "5. Create a set of masked tokens equal to a single learnable mask token repeated. Add positional encoding to each masked token to tell the decoder where the masked tokens are in space.\n",
    "6. Pass visible encoded tokens and masked tokens through decoder\n",
    "7. Index the masked tokens in the decoder output and regress patch points from them.\n",
    "8. Compare the regressed points to the ground truth points using Chamfer Distance from `pytorch3d`."
   ]
  },
  {
   "cell_type": "code",
   "execution_count": 2,
   "metadata": {},
   "outputs": [],
   "source": [
    "import torch.nn as nn\n",
    "from point2vec.modules.transformer import TransformerEncoder, TransformerEncoderOutput\n",
    "from point2vec.modules.masking import VariablePointcloudMasking\n",
    "from point2vec.modules.pointnet import PointcloudTokenizer\n",
    "\n",
    "# Tokenizer ================================\n",
    "tokenizer_num_init_groups: int = 512\n",
    "tokenizer_context_length: int = 480\n",
    "tokenizer_group_size: int = 32\n",
    "tokenizer_group_radius: float | None = 5 / 760\n",
    "tokenizer_upscale_group_size: int | None = 2048\n",
    "tokenizer_overlap_factor: float | None = 2.0\n",
    "tokenizer_reduction_method: str = \"fps\"\n",
    "\n",
    "encoder_dim: int = 384\n",
    "num_channels: int = 4\n",
    "embedding_type: str = \"masked_mini\"\n",
    "\n",
    "tokenizer = PointcloudTokenizer(\n",
    "            num_init_groups=tokenizer_num_init_groups,\n",
    "            context_length=tokenizer_context_length,\n",
    "            group_size=tokenizer_group_size,\n",
    "            group_radius=tokenizer_group_radius,\n",
    "            upscale_group_size=tokenizer_upscale_group_size,\n",
    "            reduction_method=tokenizer_reduction_method,\n",
    "            overlap_factor=tokenizer_overlap_factor,\n",
    "            token_dim=encoder_dim,\n",
    "            num_channels=num_channels,\n",
    "            embedding_type=embedding_type,\n",
    "        ).cuda()\n",
    "\n",
    "\n",
    "# Masking ================================\n",
    "# Mask 60% of tokens randomly\n",
    "masking = VariablePointcloudMasking(\n",
    "    ratio=0.6,\n",
    "    type='rand'\n",
    ")\n",
    "\n",
    "# Learnable Mask Token ================================\n",
    "mask_token = nn.Parameter(torch.zeros(encoder_dim)).cuda()\n",
    "nn.init.trunc_normal_(mask_token, mean=0, std=0.02, a=-0.02, b=0.02)\n",
    "\n",
    "\n",
    "# Transformer Encoder ================================\n",
    "# Encodes visible (unmasked) tokens\n",
    "encoder_dim: int = 384\n",
    "encoder_depth: int = 12\n",
    "encoder_heads: int = 6\n",
    "encoder_dropout: float = 0\n",
    "encoder_attention_dropout: float = 0.05\n",
    "encoder_drop_path_rate: float = 0.25\n",
    "encoder_add_pos_at_every_layer: bool = True\n",
    "encoder_qkv_bias: bool = True\n",
    "\n",
    "dpr = [\n",
    "    x.item() for x in torch.linspace(0, encoder_drop_path_rate, encoder_depth)\n",
    "]\n",
    "\n",
    "\n",
    "encoder = TransformerEncoder(\n",
    "    embed_dim=encoder_dim,\n",
    "    depth=encoder_depth,\n",
    "    num_heads=encoder_heads,\n",
    "    qkv_bias=encoder_qkv_bias,\n",
    "    drop_rate=encoder_dropout,\n",
    "    attn_drop_rate=encoder_attention_dropout,\n",
    "    drop_path_rate=dpr,\n",
    "    add_pos_at_every_layer=encoder_add_pos_at_every_layer,\n",
    ").cuda()\n",
    "\n",
    "# Transformer Decoder ================================\n",
    "# Decodes masked tokens into guesses of what they should be using encoder outputs\n",
    "decoder_depth: int = 4\n",
    "decoder_dropout: float = 0\n",
    "decoder_attention_dropout: float = 0.05\n",
    "decoder_drop_path_rate: float = 0.25\n",
    "decoder_add_pos_at_every_layer: bool = True\n",
    "decoder_qkv_bias: bool = True\n",
    "\n",
    "decoder_dpr = [\n",
    "    x.item() for x in torch.linspace(0, decoder_drop_path_rate, decoder_depth)\n",
    "]\n",
    "\n",
    "decoder = TransformerEncoder(\n",
    "    embed_dim=encoder_dim,\n",
    "    depth=decoder_depth,\n",
    "    num_heads=encoder_heads,\n",
    "    qkv_bias=decoder_qkv_bias,\n",
    "    drop_rate=decoder_dropout,\n",
    "    attn_drop_rate=decoder_attention_dropout,\n",
    "    drop_path_rate=decoder_dpr,\n",
    "    add_pos_at_every_layer=decoder_add_pos_at_every_layer,\n",
    ").cuda()\n",
    "\n",
    "# Increase Dimension ================================\n",
    "# Regresses a fixed set of 4D points from one token\n",
    "increase_dim = nn.Sequential(\n",
    "    nn.Conv1d(encoder_dim, num_channels*tokenizer_group_size, 1),\n",
    ").cuda()\n",
    "\n",
    "# Positional Encoding ================================\n",
    "# Encodes the 3D position of patch centers to add onto token embeddings before passing into encoder\n",
    "positional_encoding = nn.Sequential(\n",
    "    nn.Linear(3, 128),\n",
    "    nn.GELU(),\n",
    "    nn.Linear(128, encoder_dim),\n",
    ").cuda()"
   ]
  },
  {
   "cell_type": "code",
   "execution_count": 3,
   "metadata": {},
   "outputs": [
    {
     "name": "stdout",
     "output_type": "stream",
     "text": [
      "[DATASET] self.emin=1e-06, self.emax=20.0, self.energy_threshold=0.13, self.normalize=True, self.remove_low_energy_scatters=True\n",
      "[DATASET] Building index\n",
      "[DATASET] 864064 point clouds were loaded\n",
      "[DATASET] 10 files were loaded\n",
      "[DATASET] self.emin=1e-06, self.emax=20.0, self.energy_threshold=0.13, self.normalize=True, self.remove_low_energy_scatters=True\n",
      "[DATASET] Building index\n",
      "[DATASET] 8531 point clouds were loaded\n",
      "[DATASET] 1 files were loaded\n"
     ]
    }
   ],
   "source": [
    "dataset = LArNetDataModule(\n",
    "    data_path=f'/sdf/home/y/youngsam/data/dune/larnet/h5/DataAccessExamples/train/generic_v2*.h5',\n",
    "    batch_size=24,\n",
    "    num_workers=0,\n",
    "    dataset_kwargs={\n",
    "        'emin': 1.0e-6,                      # min energy for log transform\n",
    "        'emax': 20.0,                        # max energy for log transform\n",
    "        'energy_threshold': 0.13,            # remove points with energy < 0.13\n",
    "        'remove_low_energy_scatters': True,  # remove low energy scatters (PID=4)\n",
    "        'maxlen': -1,                        # max number of events to load\n",
    "        'normalize': True,                   # normalize point cloud to unit sphere\n",
    "    }\n",
    ")\n",
    "dataset.setup()\n",
    "\n",
    "# DataLoader\n",
    "train_loader = dataset.train_dataloader()\n",
    "\n",
    "# Inference\n",
    "for batch in train_loader:\n",
    "    points, lengths, semantic_id, endpoints = batch\n",
    "    points = points.cuda()\n",
    "    lengths = lengths.cuda()\n",
    "    break"
   ]
  },
  {
   "cell_type": "markdown",
   "metadata": {},
   "source": [
    "# Training step example"
   ]
  },
  {
   "cell_type": "code",
   "execution_count": 4,
   "metadata": {},
   "outputs": [],
   "source": [
    "# Group & tokenize point cloud\n",
    "(\n",
    "    embeddings,\n",
    "    centers,\n",
    "    embedding_mask,\n",
    "    semantic_id_groups,\n",
    "    endpoints_groups,\n",
    "    groups,\n",
    "    point_mask,\n",
    ") = tokenizer(points, lengths, return_point_info=True)\n",
    "\n",
    "\n",
    "# Mask 60% of tokens\n",
    "masked, unmasked = masking(centers, embedding_mask.sum(-1))"
   ]
  },
  {
   "cell_type": "markdown",
   "metadata": {},
   "source": [
    "Below shows the masked and unmasked token masks for each event in the batch. You'll see only 60% of the unpadded tokens per event are masked, and that masked + unmasked = embedding_mask.\n",
    "\n",
    "Note that when the mask value is 1, the token is not masked. So when being converted to an attention addition mask, mask values equal to 1 will be converted to zero and and mask values equal to zero will be converted to -1e9. "
   ]
  },
  {
   "cell_type": "code",
   "execution_count": 5,
   "metadata": {},
   "outputs": [
    {
     "data": {
      "image/png": "[encoded data removed]",
      "text/plain": [
       "<Figure size 1500x600 with 4 Axes>"
      ]
     },
     "metadata": {},
     "output_type": "display_data"
    }
   ],
   "source": [
    "import matplotlib.pyplot as plt\n",
    "\n",
    "# plot masked and unmasked masks for first event side by side in same figure\n",
    "fig, (ax1, ax2, ax3) = plt.subplots(1, 3, figsize=(15, 6))\n",
    "\n",
    "ax1.imshow(masked.cpu().numpy(), aspect='auto', cmap='gray_r', interpolation='none')\n",
    "ax1.set_title('Masked')\n",
    "\n",
    "ax2.imshow(unmasked.cpu().numpy(), aspect='auto', cmap='gray_r', interpolation='none')\n",
    "ax2.set_title('Unmasked')\n",
    "\n",
    "ax3.imshow(embedding_mask.cpu().numpy(), aspect='auto', cmap='gray_r', interpolation='none')\n",
    "ax3.set_title('Masked + Unmasked')\n",
    "\n",
    "cbar = fig.colorbar(ax3.images[0], ax=[ax1, ax2, ax3])\n",
    "cbar.set_label('Mask')\n",
    "\n",
    "ax1.set_xlabel('Token')\n",
    "ax1.set_ylabel('Event')\n",
    "ax2.set_xlabel('Token')\n",
    "ax2.set_ylabel('Event')\n",
    "ax3.set_xlabel('Token')\n",
    "ax3.set_ylabel('Event')\n",
    "plt.show()"
   ]
  },
  {
   "cell_type": "code",
   "execution_count": 6,
   "metadata": {},
   "outputs": [
    {
     "name": "stdout",
     "output_type": "stream",
     "text": [
      "Regressed Points Shape: torch.Size([4921, 32, 4])\n",
      "Ground Truth Points Shape: torch.Size([4921, 32, 4])\n"
     ]
    }
   ],
   "source": [
    "w_m = masked.unsqueeze(-1)   # (B, T, 1)\n",
    "w_u = unmasked.unsqueeze(-1) # (B, T, 1)\n",
    "\n",
    "# Get positional encodings for centers\n",
    "pos = positional_encoding(centers[..., :3])\n",
    "\n",
    "# Get visible embeddings\n",
    "visible_embeddings = w_u * embeddings\n",
    "\n",
    "# Pass visible embeddings through encoder\n",
    "# w_u is used to create the correct attention mask to ensure the encoder only attends to visible tokens\n",
    "# and not masked/padded tokens\n",
    "encoder_output = encoder(visible_embeddings, pos, w_u.bool().squeeze()).last_hidden_state\n",
    "\n",
    "# Decoder mask == embedding_mask (i.e. attend to all non-padded tokens)\n",
    "decoder_mask = embedding_mask\n",
    "\n",
    "# Replace visible tokens in corrupted embeddings with encoder output\n",
    "total_embeddings = encoder_output * w_u + w_m * mask_token\n",
    "\n",
    "# Pass total embeddings through decoder\n",
    "decoder_output = decoder(total_embeddings, pos, decoder_mask).last_hidden_state\n",
    "\n",
    "# Get masked output embeddings\n",
    "masked_output_embeddings = decoder_output[masked]\n",
    "\n",
    "# Regress 4D points from masked output embeddings\n",
    "regressed_points = increase_dim(masked_output_embeddings.transpose(0, 1)).transpose(0, 1)\n",
    "regressed_points = regressed_points.reshape(regressed_points.shape[0], -1, num_channels)\n",
    "\n",
    "ground_truth_points = groups[masked]\n",
    "\n",
    "print('Regressed Points Shape:', regressed_points.shape)\n",
    "print('Ground Truth Points Shape:', ground_truth_points.shape)"
   ]
  },
  {
   "cell_type": "markdown",
   "metadata": {},
   "source": [
    "We now have the regressed points and the ground truth points. We can now compute the Chamfer Distance between the two. However, since the patches contain a variable number of points, we need to pass the actual lengths of each patch to the Chamfer Distance function."
   ]
  },
  {
   "cell_type": "code",
   "execution_count": 7,
   "metadata": {},
   "outputs": [
    {
     "name": "stdout",
     "output_type": "stream",
     "text": [
      "tensor(0.5928, device='cuda:0')\n"
     ]
    }
   ],
   "source": [
    "from pytorch3d.loss import chamfer_distance\n",
    "\n",
    "point_lengths = point_mask[masked].sum(-1)\n",
    "\n",
    "chamfer_loss, _ = chamfer_distance(\n",
    "    regressed_points,\n",
    "    ground_truth_points,\n",
    "    x_lengths=point_lengths,\n",
    "    y_lengths=point_lengths,\n",
    ")\n",
    "\n",
    "print(chamfer_loss)"
   ]
  },
  {
   "cell_type": "markdown",
   "metadata": {},
   "source": [
    "# Validation"
   ]
  },
  {
   "cell_type": "markdown",
   "metadata": {},
   "source": [
    "A decent training metric to use to see if the encoder is learning good representations is to use a Support Vector Machine (SVM) to classify the points into different semantic classes.\n",
    "\n",
    "The workflow is esssentially to:\n",
    "\n",
    "1. Tokenize point cloud as usual.\n",
    "2. Look at the semantic IDs of grouped points, taking the average semantic ID for each group (ie. most prevalent semantic ID for each group). This gives us a single semantic ID for each group/token.\n",
    "3. Pass all tokens through the encoder (i.e., do no masking).\n",
    "4. Train an SVM to classify the tokens into different semantic classes.\n",
    "5. Log the training and validation accuracy of the SVM.\n",
    "\n",
    "\n",
    "The following code does this. It's a little difficult to read as the method for getting the most prevalent semantic ID is vectorized and works in a non-obvious way."
   ]
  },
  {
   "cell_type": "code",
   "execution_count": 8,
   "metadata": {},
   "outputs": [
    {
     "data": {
      "text/plain": [
       "(torch.Size([7500, 384]),\n",
       " torch.Size([7500]),\n",
       " torch.Size([7500, 384]),\n",
       " torch.Size([7500]))"
      ]
     },
     "execution_count": 8,
     "metadata": {},
     "output_type": "execute_result"
    }
   ],
   "source": [
    "# Max number of tokens to use for training/validation\n",
    "max_tokens: int = 7500\n",
    "\n",
    "def xy(dataloader):\n",
    "    x_list = []\n",
    "    label_list = []\n",
    "\n",
    "    total =  max_tokens // (tokenizer.grouping.group_size * dataloader.batch_size) if max_tokens is not None else None\n",
    "\n",
    "    for i, (data, lengths, labels_batch, _) in enumerate(dataloader):\n",
    "        data = data.cuda()\n",
    "        lengths = lengths.cuda()\n",
    "        labels_batch = labels_batch.cuda()\n",
    "        with torch.no_grad():\n",
    "            tokens, centers, mask, semantic_ids, _, _, _ = tokenizer(\n",
    "                data, lengths, labels_batch, return_point_info=True)\n",
    "            pos = positional_encoding(centers[..., :3])\n",
    "            x = encoder(tokens, pos, mask).last_hidden_state.reshape(-1, encoder_dim)\n",
    "            semantic_ids = semantic_ids.reshape(-1, semantic_ids.shape[2])\n",
    "\n",
    "            # Get semantic_ids for each group\n",
    "            N = semantic_ids.shape[0]  # Number of groups\n",
    "            D = semantic_ids.shape[1]  # Number of semantic IDs per group\n",
    "\n",
    "            group_indices = torch.arange(N, device=semantic_ids.device).unsqueeze(1).expand(-1, D)  # Shape: (N, D)\n",
    "            semantic_ids_flat = semantic_ids.reshape(-1)\n",
    "            group_indices_flat = group_indices.reshape(-1)\n",
    "            valid_mask = semantic_ids_flat != -1\n",
    "            semantic_ids_valid = semantic_ids_flat[valid_mask]  # Shape: (K,)\n",
    "            group_indices_valid = group_indices_flat[valid_mask]  # Shape: (K,)\n",
    "            num_labels = semantic_ids_valid.max().item() + 1\n",
    "            counts = torch.zeros((N, num_labels), dtype=torch.int64, device=semantic_ids.device)\n",
    "            counts.index_add_(0, group_indices_valid, torch.nn.functional.one_hot(semantic_ids_valid, num_classes=num_labels).to(torch.int64))\n",
    "            y = counts.argmax(dim=1)  # Shape: (N,)\n",
    "            mask_flat = mask.reshape(-1)\n",
    "            x = x[mask_flat]\n",
    "            y = y[mask_flat]\n",
    "            x_list.append(x.cpu())\n",
    "            label_list.append(y.cpu())\n",
    "\n",
    "            if total is not None and i >= total:\n",
    "                break\n",
    "\n",
    "    x = torch.cat(x_list, dim=0)[:max_tokens]\n",
    "    y = torch.cat(label_list, dim=0)[:max_tokens]\n",
    "    return x, y\n",
    "\n",
    "x_train, y_train = xy(dataset.train_dataloader())  # type: ignore\n",
    "x_val, y_val = xy(dataset.val_dataloader())  # type: ignore\n",
    "x_train.shape, y_train.shape, x_val.shape, y_val.shape"
   ]
  },
  {
   "cell_type": "code",
   "execution_count": 9,
   "metadata": {},
   "outputs": [
    {
     "name": "stdout",
     "output_type": "stream",
     "text": [
      "Train Accuracy: 0.6776\n",
      "Validation Accuracy: 0.5796\n"
     ]
    }
   ],
   "source": [
    "from sklearn.svm import SVC\n",
    "\n",
    "svm_C = 0.01\n",
    "svm = SVC(C=svm_C, kernel=\"linear\", class_weight=\"balanced\")\n",
    "svm.fit(x_train, y_train)\n",
    "train_acc = svm.score(x_train, y_train)\n",
    "val_acc = svm.score(x_val, y_val)\n",
    "\n",
    "print('Train Accuracy:', train_acc)\n",
    "print('Validation Accuracy:', val_acc)"
   ]
  }
 ],
 "metadata": {
  "kernelspec": {
   "display_name": "py310",
   "language": "python",
   "name": "python3"
  },
  "language_info": {
   "codemirror_mode": {
    "name": "ipython",
    "version": 3
   },
   "file_extension": ".py",
   "mimetype": "text/x-python",
   "name": "python",
   "nbconvert_exporter": "python",
   "pygments_lexer": "ipython3",
   "version": "3.10.0"
  }
 },
 "nbformat": 4,
 "nbformat_minor": 2
}
