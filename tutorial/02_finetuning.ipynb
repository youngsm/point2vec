{
 "cells": [
  {
   "cell_type": "code",
   "execution_count": 2,
   "metadata": {},
   "outputs": [
    {
     "name": "stderr",
     "output_type": "stream",
     "text": [
      "/sdf/home/y/youngsam/sw/dune/.conda/envs/py310/lib/python3.10/site-packages/lightning_fabric/utilities/cloud_io.py:48: FutureWarning: You are using `torch.load` with `weights_only=False` (the current default value), which uses the default pickle module implicitly. It is possible to construct malicious pickle data which will execute arbitrary code during unpickling (See https://github.com/pytorch/pytorch/blob/main/SECURITY.md#untrusted-models for more details). In a future release, the default value for `weights_only` will be flipped to `True`. This limits the functions that could be executed during unpickling. Arbitrary objects will no longer be allowed to be loaded via this mode unless they are explicitly allowlisted by the user via `torch.serialization.add_safe_globals`. We recommend you start setting `weights_only=True` for any use case where you don't have full control of the loaded file. Please open an issue on GitHub for any issues related to this experimental feature.\n",
      "  return torch.load(f, map_location=map_location)\n"
     ]
    }
   ],
   "source": [
    "from point2vec.models import PointMAE\n",
    "from glob import glob\n",
    "import os\n",
    "os.environ['CUDA_VISIBLE_DEVICES'] = '3'\n",
    "\n",
    "def get_newest_ckpt(ckpt_path):\n",
    "    ckpt_path = glob(f'{ckpt_path}/**/*.ckpt')\n",
    "    newest_ckpt = max(ckpt_path, key=os.path.getctime)\n",
    "    return newest_ckpt\n",
    "\n",
    "wandb_run_id = 'fjnp0snd'\n",
    "ckpt_path = f'/sdf/home/y/youngsam/sw/dune/representations/point2vec/PointMAE-Pretraining-LArNet-5voxel/{wandb_run_id}'\n",
    "\n",
    "model = PointMAE.load_from_checkpoint(\n",
    "    get_newest_ckpt(ckpt_path)\n",
    ").cuda()\n",
    "model.eval();"
   ]
  },
  {
   "cell_type": "markdown",
   "metadata": {},
   "source": [
    "I assume you have already run `00_dataset.ipynb` and `01_tokenization.ipynb` and have the dataset format/tokenization scheme understood."
   ]
  },
  {
   "cell_type": "markdown",
   "metadata": {},
   "source": [
    "# Dataset Initialization"
   ]
  },
  {
   "cell_type": "code",
   "execution_count": 6,
   "metadata": {},
   "outputs": [
    {
     "data": {
      "text/plain": [
       "<torch.autograd.grad_mode.set_grad_enabled at 0x7fa6df44f2e0>"
      ]
     },
     "execution_count": 6,
     "metadata": {},
     "output_type": "execute_result"
    }
   ],
   "source": [
    "from point2vec.datasets import LArNetDataModule\n",
    "import matplotlib.pyplot as plt\n",
    "import torch\n",
    "import numpy as np\n",
    "torch.set_grad_enabled(False)"
   ]
  },
  {
   "cell_type": "code",
   "execution_count": 29,
   "metadata": {},
   "outputs": [],
   "source": [
    "import torch.nn as nn\n",
    "from point2vec.modules.transformer import TransformerEncoder, TransformerEncoderOutput\n",
    "from point2vec.modules.masking import VariablePointcloudMasking\n",
    "from point2vec.modules.pointnet import PointcloudTokenizer\n",
    "\n",
    "# Tokenizer ================================\n",
    "tokenizer_num_init_groups: int = 512\n",
    "tokenizer_context_length: int = 480\n",
    "tokenizer_group_size: int = 32\n",
    "tokenizer_group_radius: float | None = 5 / 760\n",
    "tokenizer_upscale_group_size: int | None = 2048\n",
    "tokenizer_overlap_factor: float | None = 2.0\n",
    "tokenizer_reduction_method: str = \"fps\"\n",
    "\n",
    "encoder_dim: int = 384\n",
    "num_channels: int = 4\n",
    "embedding_type: str = \"masked_mini\"\n",
    "\n",
    "tokenizer = PointcloudTokenizer(\n",
    "            num_init_groups=tokenizer_num_init_groups,\n",
    "            context_length=tokenizer_context_length,\n",
    "            group_size=tokenizer_group_size,\n",
    "            group_radius=tokenizer_group_radius,\n",
    "            upscale_group_size=tokenizer_upscale_group_size,\n",
    "            reduction_method=tokenizer_reduction_method,\n",
    "            overlap_factor=tokenizer_overlap_factor,\n",
    "            token_dim=encoder_dim,\n",
    "            num_channels=num_channels,\n",
    "            embedding_type=embedding_type,\n",
    "        ).cuda()\n",
    "\n",
    "\n",
    "# Masking ================================\n",
    "# Mask 60% of tokens randomly\n",
    "masking = VariablePointcloudMasking(\n",
    "    ratio=0.6,\n",
    "    type='rand'\n",
    ")\n",
    "\n",
    "# Learnable Mask Token ================================\n",
    "mask_token = nn.Parameter(torch.zeros(encoder_dim)).cuda()\n",
    "nn.init.trunc_normal_(mask_token, mean=0, std=0.02, a=-0.02, b=0.02)\n",
    "\n",
    "\n",
    "# Transformer Encoder ================================\n",
    "# Encodes visible (unmasked) tokens\n",
    "encoder_dim: int = 384\n",
    "encoder_depth: int = 12\n",
    "encoder_heads: int = 6\n",
    "encoder_dropout: float = 0\n",
    "encoder_attention_dropout: float = 0.05\n",
    "encoder_drop_path_rate: float = 0.25\n",
    "encoder_add_pos_at_every_layer: bool = True\n",
    "encoder_qkv_bias: bool = True\n",
    "\n",
    "dpr = [\n",
    "    x.item() for x in torch.linspace(0, encoder_drop_path_rate, encoder_depth)\n",
    "]\n",
    "\n",
    "\n",
    "encoder = TransformerEncoder(\n",
    "    embed_dim=encoder_dim,\n",
    "    depth=encoder_depth,\n",
    "    num_heads=encoder_heads,\n",
    "    qkv_bias=encoder_qkv_bias,\n",
    "    drop_rate=encoder_dropout,\n",
    "    attn_drop_rate=encoder_attention_dropout,\n",
    "    drop_path_rate=dpr,\n",
    "    add_pos_at_every_layer=encoder_add_pos_at_every_layer,\n",
    ").cuda()\n",
    "\n",
    "# Transformer Decoder ================================\n",
    "# Decodes masked tokens into guesses of what they should be using encoder outputs\n",
    "decoder_depth: int = 4\n",
    "decoder_dropout: float = 0\n",
    "decoder_attention_dropout: float = 0.05\n",
    "decoder_drop_path_rate: float = 0.25\n",
    "decoder_add_pos_at_every_layer: bool = True\n",
    "decoder_qkv_bias: bool = True\n",
    "\n",
    "decoder_dpr = [\n",
    "    x.item() for x in torch.linspace(0, decoder_drop_path_rate, decoder_depth)\n",
    "]\n",
    "\n",
    "decoder = TransformerEncoder(\n",
    "    embed_dim=encoder_dim,\n",
    "    depth=decoder_depth,\n",
    "    num_heads=encoder_heads,\n",
    "    qkv_bias=decoder_qkv_bias,\n",
    "    drop_rate=decoder_dropout,\n",
    "    attn_drop_rate=decoder_attention_dropout,\n",
    "    drop_path_rate=decoder_dpr,\n",
    "    add_pos_at_every_layer=decoder_add_pos_at_every_layer,\n",
    ").cuda()\n",
    "\n",
    "# Increase Dimension ================================\n",
    "# Regresses a fixed set of 4D points from one token\n",
    "increase_dim = nn.Sequential(\n",
    "    nn.Conv1d(encoder_dim, num_channels*tokenizer_group_size, 1),\n",
    ").cuda()\n",
    "\n",
    "# Positional Encoding ================================\n",
    "# Encodes the 3D position of patch centers to add onto token embeddings before passing into encoder\n",
    "positional_encoding = nn.Sequential(\n",
    "    nn.Linear(3, 128),\n",
    "    nn.GELU(),\n",
    "    nn.Linear(128, encoder_dim),\n",
    ").cuda()"
   ]
  },
  {
   "cell_type": "code",
   "execution_count": 30,
   "metadata": {},
   "outputs": [
    {
     "name": "stdout",
     "output_type": "stream",
     "text": [
      "[DATASET] self.emin=1e-06, self.emax=20.0, self.energy_threshold=0.13, self.normalize=True, self.remove_low_energy_scatters=True\n",
      "[DATASET] Building index\n",
      "[DATASET] 864064 point clouds were loaded\n",
      "[DATASET] 10 files were loaded\n",
      "[DATASET] self.emin=1e-06, self.emax=20.0, self.energy_threshold=0.13, self.normalize=True, self.remove_low_energy_scatters=True\n",
      "[DATASET] Building index\n",
      "[DATASET] 8531 point clouds were loaded\n",
      "[DATASET] 1 files were loaded\n"
     ]
    }
   ],
   "source": [
    "dataset = LArNetDataModule(\n",
    "    data_path=f'/sdf/home/y/youngsam/data/dune/larnet/h5/DataAccessExamples/train/generic_v2*.h5',\n",
    "    batch_size=24,\n",
    "    num_workers=0,\n",
    "    dataset_kwargs={\n",
    "        'emin': 1.0e-6,                      # min energy for log transform\n",
    "        'emax': 20.0,                        # max energy for log transform\n",
    "        'energy_threshold': 0.13,            # remove points with energy < 0.13\n",
    "        'remove_low_energy_scatters': True,  # remove low energy scatters (PID=4)\n",
    "        'maxlen': -1,                        # max number of events to load\n",
    "        'normalize': True,                   # normalize point cloud to unit sphere\n",
    "    }\n",
    ")\n",
    "dataset.setup()\n",
    "\n",
    "# DataLoader\n",
    "train_loader = dataset.train_dataloader()\n",
    "\n",
    "# Inference\n",
    "for batch in train_loader:\n",
    "    points, lengths, semantic_id, endpoints = batch\n",
    "    points = points.cuda()\n",
    "    lengths = lengths.cuda()\n",
    "    break"
   ]
  },
  {
   "cell_type": "markdown",
   "metadata": {},
   "source": [
    "# Training step example"
   ]
  },
  {
   "cell_type": "code",
   "execution_count": 40,
   "metadata": {},
   "outputs": [],
   "source": [
    "# Group & tokenize point cloud\n",
    "(\n",
    "    embeddings,\n",
    "    centers,\n",
    "    embedding_mask,\n",
    "    semantic_id_groups,\n",
    "    endpoints_groups,\n",
    "    groups,\n",
    "    point_mask,\n",
    ") = tokenizer(points, lengths, return_point_info=True)\n",
    "\n",
    "\n",
    "# Mask 60% of tokens\n",
    "masked, unmasked = masking(centers, embedding_mask.sum(-1))"
   ]
  },
  {
   "cell_type": "markdown",
   "metadata": {},
   "source": [
    "Below shows the masked and unmasked token masks for each event in the batch. You'll see only 60% of the unpadded tokens per event are masked, and that masked + unmasked = embedding_mask."
   ]
  },
  {
   "cell_type": "code",
   "execution_count": 32,
   "metadata": {},
   "outputs": [
    {
     "data": {
      "image/png": "[encoded data removed]",
      "text/plain": [
       "<Figure size 1500x600 with 4 Axes>"
      ]
     },
     "metadata": {},
     "output_type": "display_data"
    }
   ],
   "source": [
    "import matplotlib.pyplot as plt\n",
    "\n",
    "# plot masked and unmasked masks for first event side by side in same figure\n",
    "fig, (ax1, ax2, ax3) = plt.subplots(1, 3, figsize=(15, 6))\n",
    "\n",
    "ax1.imshow(masked.cpu().numpy(), aspect='auto', cmap='gray_r', interpolation='none')\n",
    "ax1.set_title('Masked')\n",
    "\n",
    "ax2.imshow(unmasked.cpu().numpy(), aspect='auto', cmap='gray_r', interpolation='none')\n",
    "ax2.set_title('Unmasked')\n",
    "\n",
    "ax3.imshow(embedding_mask.cpu().numpy(), aspect='auto', cmap='gray_r', interpolation='none')\n",
    "ax3.set_title('Masked + Unmasked')\n",
    "\n",
    "cbar = fig.colorbar(ax3.images[0], ax=[ax1, ax2, ax3])\n",
    "cbar.set_label('Mask')\n",
    "\n",
    "ax1.set_xlabel('Token')\n",
    "ax1.set_ylabel('Event')\n",
    "ax2.set_xlabel('Token')\n",
    "ax2.set_ylabel('Event')\n",
    "ax3.set_xlabel('Token')\n",
    "ax3.set_ylabel('Event')\n",
    "plt.show()"
   ]
  },
  {
   "cell_type": "code",
   "execution_count": 42,
   "metadata": {},
   "outputs": [
    {
     "name": "stdout",
     "output_type": "stream",
     "text": [
      "torch.Size([5166, 32, 4]) torch.Size([5166, 32, 4])\n"
     ]
    }
   ],
   "source": [
    "w_m = masked.unsqueeze(-1)   # (B, T, 1)\n",
    "w_u = unmasked.unsqueeze(-1) # (B, T, 1)\n",
    "\n",
    "# Get positional encodings for centers\n",
    "pos = positional_encoding(centers[..., :3])\n",
    "\n",
    "\n",
    "# Get visible embeddings\n",
    "visible_embeddings = w_u * embeddings\n",
    "\n",
    "# Pass visible embeddings through encoder\n",
    "# w_u is used to create the correct attention mask to ensure the encoder only attends to visible tokens\n",
    "# and not masked/padded tokens\n",
    "encoder_output = encoder(visible_embeddings, pos, w_u.bool().squeeze()).last_hidden_state\n",
    "\n",
    "# Decoder mask == embedding_mask (i.e. attend to all non-padded tokens)\n",
    "decoder_mask = embedding_mask\n",
    "\n",
    "\n",
    "# Replace visible tokens in corrupted embeddings with encoder output\n",
    "total_embeddings = encoder_output * w_u + w_m * mask_token\n",
    "\n",
    "# Pass total embeddings through decoder\n",
    "decoder_output = decoder(total_embeddings, pos, decoder_mask).last_hidden_state\n",
    "\n",
    "# Get masked output embeddings\n",
    "masked_output_embeddings = decoder_output[masked]\n",
    "\n",
    "# Regress 4D points from masked output embeddings\n",
    "regressed_points = model.increase_dim(masked_output_embeddings.transpose(0, 1)).transpose(0, 1)\n",
    "regressed_points = regressed_points.reshape(regressed_points.shape[0], -1, model.hparams.num_channels)\n",
    "\n",
    "ground_truth_points = groups[masked]\n",
    "\n",
    "print(regressed_points.shape, ground_truth_points.shape)"
   ]
  },
  {
   "cell_type": "markdown",
   "metadata": {},
   "source": [
    "We now have the regressed points and the ground truth points. We can now compute the Chamfer Distance between the two. However, since the patches contain a variable number of points, we need to pass the actual lengths of each patch to the Chamfer Distance function."
   ]
  },
  {
   "cell_type": "code",
   "execution_count": 46,
   "metadata": {},
   "outputs": [
    {
     "name": "stdout",
     "output_type": "stream",
     "text": [
      "tensor(0.6254, device='cuda:0')\n"
     ]
    }
   ],
   "source": [
    "from pytorch3d.loss import chamfer_distance\n",
    "\n",
    "point_lengths = point_mask[masked].sum(-1)\n",
    "\n",
    "chamfer_loss, _ = chamfer_distance(\n",
    "    regressed_points,\n",
    "    ground_truth_points,\n",
    "    x_lengths=point_lengths,\n",
    "    y_lengths=point_lengths,\n",
    ")\n",
    "\n",
    "print(chamfer_loss)"
   ]
  }
 ],
 "metadata": {
  "kernelspec": {
   "display_name": "py310",
   "language": "python",
   "name": "python3"
  },
  "language_info": {
   "codemirror_mode": {
    "name": "ipython",
    "version": 3
   },
   "file_extension": ".py",
   "mimetype": "text/x-python",
   "name": "python",
   "nbconvert_exporter": "python",
   "pygments_lexer": "ipython3",
   "version": "3.10.0"
  }
 },
 "nbformat": 4,
 "nbformat_minor": 2
}
